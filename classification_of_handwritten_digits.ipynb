{
  "nbformat": 4,
  "nbformat_minor": 0,
  "metadata": {
    "colab": {
      "provenance": []
    },
    "kernelspec": {
      "name": "python3",
      "display_name": "Python 3"
    },
    "language_info": {
      "name": "python"
    }
  },
  "cells": [
    {
      "cell_type": "code",
      "execution_count": null,
      "metadata": {
        "colab": {
          "base_uri": "https://localhost:8080/"
        },
        "id": "kRLZMDGHN6Pw",
        "outputId": "5ed39081-8f00-45e7-a502-3f48fdf97750"
      },
      "outputs": [
        {
          "output_type": "stream",
          "name": "stdout",
          "text": [
            "Downloading data from https://storage.googleapis.com/tensorflow/tf-keras-datasets/mnist.npz\n",
            "11490434/11490434 [==============================] - 0s 0us/step\n",
            "Classes: [0 1 2 3 4 5 6 7 8 9]\n",
            "Features' shape: (60000, 784)\n",
            "Target's shape: (60000,)\n",
            "min: 0, max: 255\n"
          ]
        }
      ],
      "source": [
        "# STAGE 1\n",
        "import tensorflow as tf\n",
        "import numpy as np\n",
        "\n",
        "\n",
        "\"\"\"\n",
        "    Objective Stage 1:\n",
        "    - 1 Import tensorflow and numpy\n",
        "    - 2 Load MNIST data from tensorflow.keras.datasets\n",
        "    - 3 Reshape the features array to the 2D array with n rows and m columns\n",
        "      (n: number of images in the dataset; m: number of pixels in each image)\n",
        "      --> flatten the features and target arrays\n",
        "    - 4 Provide the unique target classes' names, the shape of the features array\n",
        "      and the shape of the target variable in following format: (n, m).\n",
        "      Print the min and max values of the features array.\n",
        "\"\"\"\n",
        "# 2 - Load MNIST datasets from tensorflow.keras.datasets\n",
        "(x_train, y_train), (x_test, y_test) = tf.keras.datasets.mnist.load_data()\n",
        "\n",
        "# 3 - Flatten features array with n images and m pixels per image\n",
        "n1 = np.shape(x_train)[0]\n",
        "n2 = np.shape(x_test)[0]\n",
        "m = np.shape(x_train)[1] * np.shape(x_train)[2]\n",
        "x_train = x_train.reshape(n1, m)\n",
        "x_test = x_test.reshape(n2, m)\n",
        "\n",
        "# 4 - Print unique target classes' names, features and target shapes,\n",
        "# and min & max values of the features array\n",
        "print(\"Classes:\", np.unique(y_train))\n",
        "print(\"Features' shape:\", np.shape(x_train))\n",
        "print(\"Target's shape:\", np.shape(y_train))\n",
        "print(f\"min: {x_train.min()}, max: {x_train.max()}\")"
      ]
    },
    {
      "cell_type": "code",
      "source": [
        "# Stage 2\n",
        "import pandas as pd\n",
        "from sklearn.model_selection import train_test_split\n",
        "\n",
        "rows_limit = 6000\n",
        "random_seed = 40\n",
        "\n",
        "features = np.concatenate((x_train, x_test))  # combined features array\n",
        "target = np.concatenate((y_train, y_test))  # combined target array\n",
        "\n",
        "features = pd.DataFrame(features)\n",
        "target = pd.Series(target)\n",
        "\n",
        "# Use the first 6000 rows of the dataset\n",
        "# features = features[:rows_limit]\n",
        "# target = target[:rows_limit]\n",
        "\n",
        "# Set the test_size = 0.3 & random_seed 40\n",
        "X_train, X_test, Y_train, Y_test = train_test_split(features[:rows_limit], \n",
        "                                                    target[:rows_limit], test_size=0.3, \n",
        "                                                    random_state=random_seed)\n",
        "\n",
        "# Print shapes of new data and the proportions of sample per class in the training set\n",
        "print(f\"X_train shape: {X_train.shape}\",\n",
        "      f\"X_test shape: {X_test.shape}\",\n",
        "      f\"Y_train shape: {Y_train.shape}\",\n",
        "      f\"Y_test shape: {Y_test.shape}\",\n",
        "      f\"Proportion of samples per class in train set:\",\n",
        "      Y_train.value_counts(normalize=True),\n",
        "      sep='\\n')"
      ],
      "metadata": {
        "id": "VbloY0rCFee0",
        "colab": {
          "base_uri": "https://localhost:8080/"
        },
        "outputId": "bf72166a-3c04-4594-addb-f6164e0cf572"
      },
      "execution_count": null,
      "outputs": [
        {
          "output_type": "stream",
          "name": "stdout",
          "text": [
            "X_train shape: (4200, 784)\n",
            "X_test shape: (1800, 784)\n",
            "Y_train shape: (4200,)\n",
            "Y_test shape: (1800,)\n",
            "Proportion of samples per class in train set:\n",
            "1    0.110238\n",
            "7    0.108095\n",
            "4    0.105952\n",
            "6    0.101905\n",
            "0    0.101429\n",
            "9    0.100952\n",
            "3    0.097619\n",
            "2    0.096667\n",
            "8    0.090000\n",
            "5    0.087143\n",
            "dtype: float64\n"
          ]
        }
      ]
    },
    {
      "cell_type": "code",
      "source": [
        "# Stage 3\n",
        "from sklearn.metrics import accuracy_score\n",
        "from sklearn.neighbors import KNeighborsClassifier\n",
        "from sklearn.tree import DecisionTreeClassifier\n",
        "from sklearn.linear_model import LogisticRegression\n",
        "from sklearn.ensemble import RandomForestClassifier\n",
        "\n",
        "\"\"\"def fit_predict_eval(model, features_train, features_test, target_train, target_test):\n",
        "    model.fit(features_train, target_train)\n",
        "    # model.predict(features_test)\n",
        "    score = model.score(features_test, target_test)\n",
        "    return score\n",
        "\n",
        "def fit_predict_eval(self):\n",
        "        #fit the model, make a prediction, calculate accuracy and save it to score\n",
        "        mod = self.model\n",
        "        mod.fit(self.X_train, self.y_train)\n",
        "        y_pred = mod.predict(self.X_test)\n",
        "        self.score = accuracy_score(self.y_test, y_pred)\n",
        "        print(f'Model: {self.model}\\nAccuracy: {round(self.score, 4)}\\n')\"\"\"\n",
        "\n",
        "def fit_predict_eval(model, features_train, features_test, target_train, target_test):\n",
        "    # here you fit the model\n",
        "    model.fit(features_train, target_train)\n",
        "    # make a prediction\n",
        "    target_predicted = model.predict(features_test)\n",
        "    # calculate accuracy and save it to score\n",
        "    score = accuracy_score(target_test, target_predicted)\n",
        "  \n",
        "    print(f'Model: {model}\\nAccuracy: {score: .4f}\\n')\n",
        "    return score\n",
        "\n",
        "result_dict = []\n",
        "\n",
        "models = [['KNeighborsClassifier', KNeighborsClassifier(), 0],\n",
        "          ['DecisionTreeClassifier', DecisionTreeClassifier(random_state=random_seed), 0],\n",
        "          ['LogisticRegression', LogisticRegression(random_state=random_seed, solver='liblinear'), 0],\n",
        "          ['RandomForestClassifier', RandomForestClassifier(random_state=random_seed), 0]]\n",
        "\n",
        "for item in models:\n",
        "    item[2] = fit_predict_eval(\n",
        "                            model=item[1],\n",
        "                            features_train=X_train,\n",
        "                            features_test=X_test,\n",
        "                            target_train=Y_train,\n",
        "                            target_test=Y_test\n",
        "                          )\n",
        "\n",
        "models = sorted(models, key=lambda i: i[2], reverse=True)\n",
        "\n",
        "\n"
      ],
      "metadata": {
        "colab": {
          "base_uri": "https://localhost:8080/"
        },
        "id": "DNYiPFAkNBYC",
        "outputId": "6e443427-d01c-4f1e-a341-50dd54cf44ed"
      },
      "execution_count": null,
      "outputs": [
        {
          "output_type": "stream",
          "name": "stdout",
          "text": [
            "Model: KNeighborsClassifier()\n",
            "Accuracy:  0.9350\n",
            "\n",
            "Model: DecisionTreeClassifier(random_state=40)\n",
            "Accuracy:  0.7606\n",
            "\n",
            "Model: LogisticRegression(random_state=40, solver='liblinear')\n",
            "Accuracy:  0.8306\n",
            "\n",
            "Model: RandomForestClassifier(random_state=40)\n",
            "Accuracy:  0.9394\n",
            "\n"
          ]
        }
      ]
    },
    {
      "cell_type": "code",
      "source": [
        "print(f'The answer to the question: {models[0][0]} - {round(models[0][2], 3)}')"
      ],
      "metadata": {
        "colab": {
          "base_uri": "https://localhost:8080/"
        },
        "id": "_7dJSubLJCyr",
        "outputId": "00321863-ab1d-4883-9806-c4857b3cf9b3"
      },
      "execution_count": null,
      "outputs": [
        {
          "output_type": "stream",
          "name": "stdout",
          "text": [
            "The answer to the question: RandomForestClassifier - 0.939\n"
          ]
        }
      ]
    },
    {
      "cell_type": "code",
      "source": [
        "from sklearn.preprocessing import Normalizer\n",
        "\n",
        "def fit_predict_eval_norm(model, features_train, features_test, target_train, target_test):\n",
        "    # here you fit the model\n",
        "    model.fit(features_train, target_train)\n",
        "    # make a prediction\n",
        "    target_predicted = model.predict(features_test)\n",
        "    # calculate accuracy and save it to score\n",
        "    score = accuracy_score(target_test, target_predicted)\n",
        "    print(f'Model: {model}\\nAccuracy: {score: .4f}\\n')\n",
        "    return score\n",
        "\n",
        "X_train_norm = Normalizer().transform(X_train)\n",
        "X_test_norm = Normalizer().transform(X_test)\n",
        "\n",
        "for item in models:\n",
        "    item[2] = fit_predict_eval_norm(\n",
        "                            model=item[1],\n",
        "                            features_train=X_train_norm,\n",
        "                            features_test=X_test_norm,\n",
        "                            target_train=Y_train,\n",
        "                            target_test=Y_test\n",
        "                          )\n",
        "\n",
        "models = sorted(models, key=lambda i: i[2], reverse=True)"
      ],
      "metadata": {
        "colab": {
          "base_uri": "https://localhost:8080/"
        },
        "id": "Z7Mv9D0pODR5",
        "outputId": "7c703a01-72ac-4814-ef66-eeedcc4aaf7d"
      },
      "execution_count": null,
      "outputs": [
        {
          "output_type": "stream",
          "name": "stdout",
          "text": [
            "Model: KNeighborsClassifier()\n",
            "Accuracy:  0.9533\n",
            "\n",
            "Model: RandomForestClassifier(random_state=40)\n",
            "Accuracy:  0.9367\n",
            "\n",
            "Model: LogisticRegression(random_state=40, solver='liblinear')\n",
            "Accuracy:  0.8828\n",
            "\n",
            "Model: DecisionTreeClassifier(random_state=40)\n",
            "Accuracy:  0.7806\n",
            "\n"
          ]
        }
      ]
    },
    {
      "cell_type": "code",
      "source": [
        "print('The answer to the 1st question: yes')\n",
        "print(f'The answer to the 2nd question: '\n",
        "      f'{models[0][0]} - {round(models[0][2], 3)}, '\n",
        "      f'{models[1][0]} - {round(models[1][2], 3)}')"
      ],
      "metadata": {
        "colab": {
          "base_uri": "https://localhost:8080/"
        },
        "id": "ZYKyKAvaOCxC",
        "outputId": "5fc2489d-c68a-45d8-b031-3f8e9a3d0ddd"
      },
      "execution_count": null,
      "outputs": [
        {
          "output_type": "stream",
          "name": "stdout",
          "text": [
            "The answer to the 1st question: yes\n",
            "The answer to the 2nd question: KNeighborsClassifier - 0.953, RandomForestClassifier - 0.937\n"
          ]
        }
      ]
    },
    {
      "cell_type": "code",
      "source": [
        "from sklearn.preprocessing import Normalizer\n",
        "X_train, X_test, Y_train, Y_test = train_test_split(features, \n",
        "                                                    target, test_size=0.2, \n",
        "                                                    random_state=random_seed)\n",
        "\n",
        "# Print shapes of new data and the proportions of sample per class in the training set\n",
        "print(f\"X_train shape: {X_train.shape}\",\n",
        "      f\"X_test shape: {X_test.shape}\",\n",
        "      f\"Y_train shape: {Y_train.shape}\",\n",
        "      f\"Y_test shape: {Y_test.shape}\",\n",
        "      f\"Proportion of samples per class in train set:\",\n",
        "      Y_train.value_counts(normalize=True),\n",
        "      sep='\\n')\n",
        "\n",
        "X_train_norm = Normalizer().transform(X_train)\n",
        "X_test_norm = Normalizer().transform(X_test)"
      ],
      "metadata": {
        "colab": {
          "base_uri": "https://localhost:8080/"
        },
        "id": "jxiLEX5rzLVf",
        "outputId": "34a852a3-4489-4455-f746-036ff5ed06db"
      },
      "execution_count": null,
      "outputs": [
        {
          "output_type": "stream",
          "name": "stdout",
          "text": [
            "X_train shape: (56000, 784)\n",
            "X_test shape: (14000, 784)\n",
            "Y_train shape: (56000,)\n",
            "Y_test shape: (14000,)\n",
            "Proportion of samples per class in train set:\n",
            "1    0.112750\n",
            "7    0.104214\n",
            "3    0.101893\n",
            "9    0.099536\n",
            "2    0.099018\n",
            "6    0.098518\n",
            "0    0.098143\n",
            "8    0.097214\n",
            "4    0.097071\n",
            "5    0.091643\n",
            "dtype: float64\n"
          ]
        }
      ]
    },
    {
      "cell_type": "code",
      "source": [
        "from sklearn.model_selection import GridSearchCV\n",
        "\n",
        "\n",
        "def fit_predict_eval_ht(model, features_train, features_test, target_train, target_test):\n",
        "    # here you fit the model\n",
        "    model.fit(features_train, target_train)\n",
        "    # make a prediction\n",
        "    predicted_target = model.predict(features_test)\n",
        "    # calculate accuracy and save it to score\n",
        "    score = accuracy_score(target_test, predicted_target)\n",
        "    print(f'Model: {model}\\nAccuracy: {score: .4f}\\n')\n",
        "    return score\n",
        "    \n",
        "knn_estimator = KNeighborsClassifier()\n",
        "knn_param_grid = dict(n_neighbors=[3, 4], weights=['uniform', 'distance'],\n",
        "                          algorithm=['auto', 'brute'])\n",
        "knn_grid_search = GridSearchCV(estimator=knn_estimator, param_grid=knn_param_grid,\n",
        "                                   scoring='accuracy', n_jobs=-1)\n",
        "\n",
        "rf_estimator = RandomForestClassifier(random_state=random_seed)\n",
        "rf_param_grid = dict(n_estimators=[300, 500], max_features=['auto', 'log2'],\n",
        "                         class_weight=['balanced', 'balanced_subsample'])\n",
        "rf_grid_search = GridSearchCV(estimator=rf_estimator, param_grid=rf_param_grid,\n",
        "                                  scoring='accuracy', n_jobs=-1)\n",
        "\n",
        "    # 3 - Run the fit method for GridSearchCV (use train set only)\n",
        "knn_grid_search.fit(X_train_norm, Y_train)\n",
        "knn_best_estimator = knn_grid_search.best_estimator_\n",
        "rf_grid_search.fit(X_train_norm, Y_train)\n",
        "rf_best_estimator = rf_grid_search.best_estimator_\n",
        "model2 = [['knn_best_estimator', knn_best_estimator, 0],\n",
        "          ['rf_best_estimator', rf_best_estimator, 0]]\n",
        "\n",
        "    # 4 - Print the best sets of parameters for both algorithms.\n",
        "    #     (Get the info from attribute called best_estimator_ of each algorithm)\n",
        "    #     Train two best estimators on the test set and print their accuracies.\n",
        "\n",
        "for item in model2:\n",
        "    item[2] = fit_predict_eval_ht(\n",
        "                            model=item[1],\n",
        "                            features_train=X_train_norm,\n",
        "                            features_test=X_test_norm,\n",
        "                            target_train=Y_train,\n",
        "                            target_test=Y_test\n",
        "                          )\n",
        "\n",
        "model2 = sorted(model2, key=lambda i: i[2], reverse=True)\n",
        "\"\"\"print(\"K-nearest neighbours algorithm\")\n",
        "print(\"best estimator:\", knn_best_estimator)\n",
        "print(f\"accuracy: {result_dict[knn_best_estimator]: .3f}\\n\")\n",
        "print(\"Random forest algorithm\")\n",
        "print(\"best estimator:\", rf_best_estimator)\n",
        "print(f\"accuracy: {result_dict[rf_best_estimator]: .3f}\\n\")\"\"\"\n",
        "\n"
      ],
      "metadata": {
        "colab": {
          "base_uri": "https://localhost:8080/",
          "height": 192
        },
        "id": "ePO-Q5bLOCmr",
        "outputId": "64dc000a-349f-42be-f294-70ec30452333"
      },
      "execution_count": null,
      "outputs": [
        {
          "output_type": "stream",
          "name": "stdout",
          "text": [
            "Model: KNeighborsClassifier(n_neighbors=4, weights='distance')\n",
            "Accuracy:  0.9780\n",
            "\n",
            "Model: RandomForestClassifier(class_weight='balanced_subsample', n_estimators=500,\n",
            "                       random_state=40)\n",
            "Accuracy:  0.9704\n",
            "\n"
          ]
        },
        {
          "output_type": "execute_result",
          "data": {
            "text/plain": [
              "'print(\"K-nearest neighbours algorithm\")\\nprint(\"best estimator:\", knn_best_estimator)\\nprint(f\"accuracy: {result_dict[knn_best_estimator]: .3f}\\n\")\\nprint(\"Random forest algorithm\")\\nprint(\"best estimator:\", rf_best_estimator)\\nprint(f\"accuracy: {result_dict[rf_best_estimator]: .3f}\\n\")'"
            ],
            "application/vnd.google.colaboratory.intrinsic+json": {
              "type": "string"
            }
          },
          "metadata": {},
          "execution_count": 59
        }
      ]
    },
    {
      "cell_type": "code",
      "source": [
        "\n",
        "knn_classifier = model2[0][1]\n",
        "rf_classifier = model2[1][1]\n",
        "print(knn_classifier)\n",
        "print(rf_classifier)\n"
      ],
      "metadata": {
        "colab": {
          "base_uri": "https://localhost:8080/"
        },
        "id": "crNTpnpiXMp4",
        "outputId": "74f345dc-1697-4800-85ea-ddd597879ea0"
      },
      "execution_count": null,
      "outputs": [
        {
          "output_type": "stream",
          "name": "stdout",
          "text": [
            "KNeighborsClassifier(n_neighbors=4, weights='distance')\n",
            "RandomForestClassifier(class_weight='balanced_subsample', n_estimators=500,\n",
            "                       random_state=40)\n"
          ]
        }
      ]
    },
    {
      "cell_type": "code",
      "source": [
        "from sklearn.metrics import classification_report, confusion_matrix\n",
        "\n",
        "knn_predict = knn_classifier.predict(X_test_norm)\n",
        "rf_predict = rf_classifier.predict(X_test_norm)\n",
        "\n",
        "print('Classification report for knn_classifier\\n')\n",
        "print(classification_report(Y_test, knn_predict))\n"
      ],
      "metadata": {
        "colab": {
          "base_uri": "https://localhost:8080/"
        },
        "id": "4v5J-chYQrwh",
        "outputId": "7bd5bd59-d1ba-47c4-d242-3f88525b6005"
      },
      "execution_count": null,
      "outputs": [
        {
          "output_type": "stream",
          "name": "stdout",
          "text": [
            "Classification report for knn_classifier\n",
            "\n",
            "              precision    recall  f1-score   support\n",
            "\n",
            "           0       0.98      0.99      0.99      1407\n",
            "           1       0.98      1.00      0.99      1563\n",
            "           2       0.99      0.98      0.99      1445\n",
            "           3       0.98      0.97      0.97      1435\n",
            "           4       0.99      0.97      0.98      1388\n",
            "           5       0.98      0.96      0.97      1181\n",
            "           6       0.98      0.99      0.99      1359\n",
            "           7       0.98      0.98      0.98      1457\n",
            "           8       0.98      0.96      0.97      1381\n",
            "           9       0.95      0.97      0.96      1384\n",
            "\n",
            "    accuracy                           0.98     14000\n",
            "   macro avg       0.98      0.98      0.98     14000\n",
            "weighted avg       0.98      0.98      0.98     14000\n",
            "\n"
          ]
        }
      ]
    },
    {
      "cell_type": "code",
      "source": [
        "print('Classification report for rf_classifier\\n')\n",
        "print(classification_report(Y_test, rf_predict))\n"
      ],
      "metadata": {
        "colab": {
          "base_uri": "https://localhost:8080/"
        },
        "id": "7uYvy5VDWUGh",
        "outputId": "b7c1f0fa-e1b1-4cba-8844-def539679f28"
      },
      "execution_count": null,
      "outputs": [
        {
          "output_type": "stream",
          "name": "stdout",
          "text": [
            "Classification report for rf_classifier\n",
            "\n",
            "              precision    recall  f1-score   support\n",
            "\n",
            "           0       0.98      0.99      0.98      1407\n",
            "           1       0.98      0.99      0.98      1563\n",
            "           2       0.97      0.97      0.97      1445\n",
            "           3       0.96      0.96      0.96      1435\n",
            "           4       0.96      0.98      0.97      1388\n",
            "           5       0.98      0.96      0.97      1181\n",
            "           6       0.98      0.99      0.98      1359\n",
            "           7       0.98      0.97      0.97      1457\n",
            "           8       0.96      0.95      0.96      1381\n",
            "           9       0.96      0.95      0.96      1384\n",
            "\n",
            "    accuracy                           0.97     14000\n",
            "   macro avg       0.97      0.97      0.97     14000\n",
            "weighted avg       0.97      0.97      0.97     14000\n",
            "\n"
          ]
        }
      ]
    },
    {
      "cell_type": "code",
      "source": [
        "print('Confusion matrix for knn_classifier\\n')\n",
        "print(confusion_matrix(Y_test,knn_predict))\n"
      ],
      "metadata": {
        "colab": {
          "base_uri": "https://localhost:8080/"
        },
        "id": "rVHIFrHrY3ZO",
        "outputId": "84a4c23d-9f29-4054-9198-ffd11d110f44"
      },
      "execution_count": null,
      "outputs": [
        {
          "output_type": "stream",
          "name": "stdout",
          "text": [
            "Confusion matrix for knn_classifier\n",
            "\n",
            "[[1399    1    2    0    0    0    4    0    1    0]\n",
            " [   0 1557    1    1    1    0    0    2    0    1]\n",
            " [   4    2 1419    3    0    0    2    8    5    2]\n",
            " [   2    3    5 1391    0   12    0    6   13    3]\n",
            " [   1    6    0    0 1347    0    3    3    1   27]\n",
            " [   8    1    1   13    1 1131   13    1    6    6]\n",
            " [   4    2    0    0    0    3 1350    0    0    0]\n",
            " [   0    8    5    1    4    0    0 1425    0   14]\n",
            " [   3   10    2   10    6    6    4    2 1327   11]\n",
            " [   7    2    1    7    6    2    0    7    6 1346]]\n"
          ]
        }
      ]
    },
    {
      "cell_type": "code",
      "source": [
        "print('Confusion matrix for rf_classifier\\n')\n",
        "print(confusion_matrix(Y_test,rf_predict))"
      ],
      "metadata": {
        "colab": {
          "base_uri": "https://localhost:8080/"
        },
        "id": "9xRSYiQUY7Ol",
        "outputId": "4bed58c0-db8c-42c7-8435-84bdbdf08e0e"
      },
      "execution_count": null,
      "outputs": [
        {
          "output_type": "stream",
          "name": "stdout",
          "text": [
            "Confusion matrix for rf_classifier\n",
            "\n",
            "[[1389    1    3    0    1    1    6    0    6    0]\n",
            " [   0 1545    3    3    3    1    1    3    2    2]\n",
            " [   6    3 1401    5    9    0    4    6   10    1]\n",
            " [   2    4   18 1371    0   10    0   11   15    4]\n",
            " [   3    2    2    0 1354    0    5    2    4   16]\n",
            " [   2    3    2   12    2 1138   11    4    4    3]\n",
            " [   6    5    0    0    0    3 1343    0    2    0]\n",
            " [   1    6    8    2    9    0    0 1415    1   15]\n",
            " [   3    5    9   10   12   10    5    1 1312   14]\n",
            " [   6    3    4   21   14    2    1    8    7 1318]]\n"
          ]
        }
      ]
    },
    {
      "cell_type": "code",
      "source": [
        "print(X_test_norm.shape)\n",
        "X_test_norm.dtype"
      ],
      "metadata": {
        "colab": {
          "base_uri": "https://localhost:8080/"
        },
        "id": "wNWacIHgpDBa",
        "outputId": "af064e4b-55a1-4ac5-e4b7-62b73c035909"
      },
      "execution_count": null,
      "outputs": [
        {
          "output_type": "stream",
          "name": "stdout",
          "text": [
            "(14000, 784)\n"
          ]
        },
        {
          "output_type": "execute_result",
          "data": {
            "text/plain": [
              "dtype('float64')"
            ]
          },
          "metadata": {},
          "execution_count": 4
        }
      ]
    },
    {
      "cell_type": "code",
      "source": [
        "X_test_norm[1].shape"
      ],
      "metadata": {
        "colab": {
          "base_uri": "https://localhost:8080/"
        },
        "id": "Qe9P--zMqH6G",
        "outputId": "9bd30fad-c57a-4720-9089-b97efaa38963"
      },
      "execution_count": null,
      "outputs": [
        {
          "output_type": "execute_result",
          "data": {
            "text/plain": [
              "(784,)"
            ]
          },
          "metadata": {},
          "execution_count": 5
        }
      ]
    },
    {
      "cell_type": "code",
      "source": [
        "from matplotlib import pyplot as plt\n",
        "img0 = plt.imshow(X_test_norm[13999].reshape(28,28), cmap = \"Greys\")\n",
        "plt.show()"
      ],
      "metadata": {
        "colab": {
          "base_uri": "https://localhost:8080/",
          "height": 265
        },
        "id": "xnu_oAwimuPY",
        "outputId": "0b6057d5-9448-42dd-8e05-fe26f14128bd"
      },
      "execution_count": null,
      "outputs": [
        {
          "output_type": "display_data",
          "data": {
            "text/plain": [
              "<Figure size 432x288 with 1 Axes>"
            ],
            "image/png": "[encoded data removed]"
          },
          "metadata": {
            "needs_background": "light"
          }
        }
      ]
    },
    {
      "cell_type": "code",
      "source": [
        "import joblib\n",
        "joblib.dump(knn_classifier, \"knn_hwd_classifier.pkl\")"
      ],
      "metadata": {
        "colab": {
          "base_uri": "https://localhost:8080/"
        },
        "id": "lKeuBOeikq0d",
        "outputId": "8cb83016-9291-40de-82bf-8d8fce381e1b"
      },
      "execution_count": null,
      "outputs": [
        {
          "output_type": "execute_result",
          "data": {
            "text/plain": [
              "['knn_hwd_classifier.pkl']"
            ]
          },
          "metadata": {},
          "execution_count": 104
        }
      ]
    },
    {
      "cell_type": "code",
      "source": [
        "joblib.dump(rf_classifier, \"rf_hwd_classifier.pkl\")"
      ],
      "metadata": {
        "colab": {
          "base_uri": "https://localhost:8080/"
        },
        "id": "J62NO7_4OXRI",
        "outputId": "37ccbd7f-38f2-492d-c212-81f180bd4cf4"
      },
      "execution_count": null,
      "outputs": [
        {
          "output_type": "execute_result",
          "data": {
            "text/plain": [
              "['rf_hwd_classifier.pkl']"
            ]
          },
          "metadata": {},
          "execution_count": 105
        }
      ]
    },
    {
      "cell_type": "code",
      "source": [
        "from google.colab import files \n",
        "uploaded = files.upload()"
      ],
      "metadata": {
        "colab": {
          "base_uri": "https://localhost:8080/",
          "height": 38
        },
        "id": "qCwz7XdmXb5u",
        "outputId": "c77a709e-7eed-419a-e054-164147a6f92e"
      },
      "execution_count": null,
      "outputs": [
        {
          "output_type": "display_data",
          "data": {
            "text/plain": [
              "<IPython.core.display.HTML object>"
            ],
            "text/html": [
              "\n",
              "     <input type=\"file\" id=\"files-2b28cb1b-ba0a-4e43-9047-1bf6371bb6ba\" name=\"files[]\" multiple disabled\n",
              "        style=\"border:none\" />\n",
              "     <output id=\"result-2b28cb1b-ba0a-4e43-9047-1bf6371bb6ba\">\n",
              "      Upload widget is only available when the cell has been executed in the\n",
              "      current browser session. Please rerun this cell to enable.\n",
              "      </output>\n",
              "      <script>// Copyright 2017 Google LLC\n",
              "//\n",
              "// Licensed under the Apache License, Version 2.0 (the \"License\");\n",
              "// you may not use this file except in compliance with the License.\n",
              "// You may obtain a copy of the License at\n",
              "//\n",
              "//      http://www.apache.org/licenses/LICENSE-2.0\n",
              "//\n",
              "// Unless required by applicable law or agreed to in writing, software\n",
              "// distributed under the License is distributed on an \"AS IS\" BASIS,\n",
              "// WITHOUT WARRANTIES OR CONDITIONS OF ANY KIND, either express or implied.\n",
              "// See the License for the specific language governing permissions and\n",
              "// limitations under the License.\n",
              "\n",
              "/**\n",
              " * @fileoverview Helpers for google.colab Python module.\n",
              " */\n",
              "(function(scope) {\n",
              "function span(text, styleAttributes = {}) {\n",
              "  const element = document.createElement('span');\n",
              "  element.textContent = text;\n",
              "  for (const key of Object.keys(styleAttributes)) {\n",
              "    element.style[key] = styleAttributes[key];\n",
              "  }\n",
              "  return element;\n",
              "}\n",
              "\n",
              "// Max number of bytes which will be uploaded at a time.\n",
              "const MAX_PAYLOAD_SIZE = 100 * 1024;\n",
              "\n",
              "function _uploadFiles(inputId, outputId) {\n",
              "  const steps = uploadFilesStep(inputId, outputId);\n",
              "  const outputElement = document.getElementById(outputId);\n",
              "  // Cache steps on the outputElement to make it available for the next call\n",
              "  // to uploadFilesContinue from Python.\n",
              "  outputElement.steps = steps;\n",
              "\n",
              "  return _uploadFilesContinue(outputId);\n",
              "}\n",
              "\n",
              "// This is roughly an async generator (not supported in the browser yet),\n",
              "// where there are multiple asynchronous steps and the Python side is going\n",
              "// to poll for completion of each step.\n",
              "// This uses a Promise to block the python side on completion of each step,\n",
              "// then passes the result of the previous step as the input to the next step.\n",
              "function _uploadFilesContinue(outputId) {\n",
              "  const outputElement = document.getElementById(outputId);\n",
              "  const steps = outputElement.steps;\n",
              "\n",
              "  const next = steps.next(outputElement.lastPromiseValue);\n",
              "  return Promise.resolve(next.value.promise).then((value) => {\n",
              "    // Cache the last promise value to make it available to the next\n",
              "    // step of the generator.\n",
              "    outputElement.lastPromiseValue = value;\n",
              "    return next.value.response;\n",
              "  });\n",
              "}\n",
              "\n",
              "/**\n",
              " * Generator function which is called between each async step of the upload\n",
              " * process.\n",
              " * @param {string} inputId Element ID of the input file picker element.\n",
              " * @param {string} outputId Element ID of the output display.\n",
              " * @return {!Iterable<!Object>} Iterable of next steps.\n",
              " */\n",
              "function* uploadFilesStep(inputId, outputId) {\n",
              "  const inputElement = document.getElementById(inputId);\n",
              "  inputElement.disabled = false;\n",
              "\n",
              "  const outputElement = document.getElementById(outputId);\n",
              "  outputElement.innerHTML = '';\n",
              "\n",
              "  const pickedPromise = new Promise((resolve) => {\n",
              "    inputElement.addEventListener('change', (e) => {\n",
              "      resolve(e.target.files);\n",
              "    });\n",
              "  });\n",
              "\n",
              "  const cancel = document.createElement('button');\n",
              "  inputElement.parentElement.appendChild(cancel);\n",
              "  cancel.textContent = 'Cancel upload';\n",
              "  const cancelPromise = new Promise((resolve) => {\n",
              "    cancel.onclick = () => {\n",
              "      resolve(null);\n",
              "    };\n",
              "  });\n",
              "\n",
              "  // Wait for the user to pick the files.\n",
              "  const files = yield {\n",
              "    promise: Promise.race([pickedPromise, cancelPromise]),\n",
              "    response: {\n",
              "      action: 'starting',\n",
              "    }\n",
              "  };\n",
              "\n",
              "  cancel.remove();\n",
              "\n",
              "  // Disable the input element since further picks are not allowed.\n",
              "  inputElement.disabled = true;\n",
              "\n",
              "  if (!files) {\n",
              "    return {\n",
              "      response: {\n",
              "        action: 'complete',\n",
              "      }\n",
              "    };\n",
              "  }\n",
              "\n",
              "  for (const file of files) {\n",
              "    const li = document.createElement('li');\n",
              "    li.append(span(file.name, {fontWeight: 'bold'}));\n",
              "    li.append(span(\n",
              "        `(${file.type || 'n/a'}) - ${file.size} bytes, ` +\n",
              "        `last modified: ${\n",
              "            file.lastModifiedDate ? file.lastModifiedDate.toLocaleDateString() :\n",
              "                                    'n/a'} - `));\n",
              "    const percent = span('0% done');\n",
              "    li.appendChild(percent);\n",
              "\n",
              "    outputElement.appendChild(li);\n",
              "\n",
              "    const fileDataPromise = new Promise((resolve) => {\n",
              "      const reader = new FileReader();\n",
              "      reader.onload = (e) => {\n",
              "        resolve(e.target.result);\n",
              "      };\n",
              "      reader.readAsArrayBuffer(file);\n",
              "    });\n",
              "    // Wait for the data to be ready.\n",
              "    let fileData = yield {\n",
              "      promise: fileDataPromise,\n",
              "      response: {\n",
              "        action: 'continue',\n",
              "      }\n",
              "    };\n",
              "\n",
              "    // Use a chunked sending to avoid message size limits. See b/62115660.\n",
              "    let position = 0;\n",
              "    do {\n",
              "      const length = Math.min(fileData.byteLength - position, MAX_PAYLOAD_SIZE);\n",
              "      const chunk = new Uint8Array(fileData, position, length);\n",
              "      position += length;\n",
              "\n",
              "      const base64 = btoa(String.fromCharCode.apply(null, chunk));\n",
              "      yield {\n",
              "        response: {\n",
              "          action: 'append',\n",
              "          file: file.name,\n",
              "          data: base64,\n",
              "        },\n",
              "      };\n",
              "\n",
              "      let percentDone = fileData.byteLength === 0 ?\n",
              "          100 :\n",
              "          Math.round((position / fileData.byteLength) * 100);\n",
              "      percent.textContent = `${percentDone}% done`;\n",
              "\n",
              "    } while (position < fileData.byteLength);\n",
              "  }\n",
              "\n",
              "  // All done.\n",
              "  yield {\n",
              "    response: {\n",
              "      action: 'complete',\n",
              "    }\n",
              "  };\n",
              "}\n",
              "\n",
              "scope.google = scope.google || {};\n",
              "scope.google.colab = scope.google.colab || {};\n",
              "scope.google.colab._files = {\n",
              "  _uploadFiles,\n",
              "  _uploadFilesContinue,\n",
              "};\n",
              "})(self);\n",
              "</script> "
            ]
          },
          "metadata": {}
        }
      ]
    },
    {
      "cell_type": "code",
      "source": [
        "import joblib\n",
        "classifier1 = joblib.load('knn_hd_classifier.pkl')"
      ],
      "metadata": {
        "id": "oIok0PdpvFX2"
      },
      "execution_count": null,
      "outputs": []
    },
    {
      "cell_type": "code",
      "source": [
        "classifier1.predict([X_test_norm[10000]])"
      ],
      "metadata": {
        "colab": {
          "base_uri": "https://localhost:8080/"
        },
        "id": "irfm_5HLvV72",
        "outputId": "dbcfbf6a-d86d-4cee-afc8-cf3c9fd50d62"
      },
      "execution_count": null,
      "outputs": [
        {
          "output_type": "execute_result",
          "data": {
            "text/plain": [
              "array([2], dtype=uint8)"
            ]
          },
          "metadata": {},
          "execution_count": 11
        }
      ]
    },
    {
      "cell_type": "code",
      "source": [
        "classifier1.predict([X_test_norm[13999]])"
      ],
      "metadata": {
        "colab": {
          "base_uri": "https://localhost:8080/"
        },
        "id": "vPSRltHEPOWu",
        "outputId": "996d23f7-fad9-4d35-d1c6-e52556b84de3"
      },
      "execution_count": null,
      "outputs": [
        {
          "output_type": "execute_result",
          "data": {
            "text/plain": [
              "array([0], dtype=uint8)"
            ]
          },
          "metadata": {},
          "execution_count": 14
        }
      ]
    },
    {
      "cell_type": "code",
      "source": [
        "X_test_norm[13999]"
      ],
      "metadata": {
        "id": "te2tFgFlPNvB"
      },
      "execution_count": null,
      "outputs": []
    },
    {
      "cell_type": "code",
      "source": [],
      "metadata": {
        "id": "fHWx92g6a17k"
      },
      "execution_count": null,
      "outputs": []
    }
  ]
}